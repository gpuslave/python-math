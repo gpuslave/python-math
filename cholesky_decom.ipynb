{
 "cells": [
  {
   "cell_type": "code",
   "execution_count": 415,
   "metadata": {},
   "outputs": [],
   "source": [
    "import numpy as np\n",
    "import typing"
   ]
  },
  {
   "cell_type": "code",
   "execution_count": 416,
   "metadata": {},
   "outputs": [],
   "source": [
    "DTYPE = np.float64\n",
    "np.set_printoptions(\n",
    "    precision=4,\n",
    "    linewidth=100,\n",
    "    suppress=True,\n",
    ")\n"
   ]
  },
  {
   "cell_type": "code",
   "execution_count": null,
   "metadata": {},
   "outputs": [
    {
     "name": "stdout",
     "output_type": "stream",
     "text": [
      "3 4\n"
     ]
    }
   ],
   "source": [
    "np.random.seed(52)\n",
    "\n",
    "rng = np.random.default_rng()\n",
    "\n",
    "N = rng.integers(low=3, high=7)\n",
    "L = rng.integers(low=2, high=5)\n",
    "while L > N:\n",
    "    L = rng.integers(low=2, high=5)\n",
    "\n",
    "print(N, L)\n"
   ]
  },
  {
   "cell_type": "code",
   "execution_count": 418,
   "metadata": {},
   "outputs": [
    {
     "name": "stdout",
     "output_type": "stream",
     "text": [
      "[[ 0.2757  2.8798  6.1473  0.    ]\n",
      " [ 3.3661  6.3505  0.      0.    ]\n",
      " [-1.2143  0.      0.      0.    ]] float64\n"
     ]
    },
    {
     "data": {
      "text/plain": [
       "array([[ 0.2757,  2.8798,  6.1473,  0.    ],\n",
       "       [ 3.3661,  6.3505,  0.    ,  0.    ],\n",
       "       [-1.2143,  0.    ,  0.    ,  0.    ]])"
      ]
     },
     "execution_count": 418,
     "metadata": {},
     "output_type": "execute_result"
    }
   ],
   "source": [
    "# 2 на 10, 2 на 100\n",
    "def gen_simple_matrix(N: int, L: int) -> np.ndarray:\n",
    "    P = np.zeros((N, L), dtype=DTYPE)\n",
    "    for i in range(L):\n",
    "        random_values = rng.uniform(low=-10.0, high=10.0, size=N - i).astype(DTYPE)\n",
    "        while np.any(random_values == 0.0):\n",
    "            random_values = rng.uniform(low=-10.0, high=10.0, size=N - i).astype(DTYPE)\n",
    "        P[0 : N - i, i] = random_values\n",
    "    print(P, P.dtype)\n",
    "    return P\n",
    "\n",
    "\n",
    "gen_simple_matrix(N, L)\n"
   ]
  },
  {
   "cell_type": "code",
   "execution_count": 419,
   "metadata": {},
   "outputs": [
    {
     "name": "stdout",
     "output_type": "stream",
     "text": [
      "[[-1.2444 -5.0328  7.3114  0.    ]\n",
      " [-3.4427 -7.8973  0.      0.    ]\n",
      " [ 5.9995  0.      0.      0.    ]] float64\n",
      "[[ 98.7556  -5.0328   7.3114   0.    ]\n",
      " [ 96.5573  -7.8973   0.       0.    ]\n",
      " [105.9995   0.       0.       0.    ]] float64\n"
     ]
    },
    {
     "data": {
      "text/plain": [
       "array([[ 98.7556,  -5.0328,   7.3114,   0.    ],\n",
       "       [ 96.5573,  -7.8973,   0.    ,   0.    ],\n",
       "       [105.9995,   0.    ,   0.    ,   0.    ]])"
      ]
     },
     "execution_count": 419,
     "metadata": {},
     "output_type": "execute_result"
    }
   ],
   "source": [
    "# 2 на 10, 2 на 100\n",
    "def gen_well_conditioned(N: int, L: int) -> np.ndarray:\n",
    "  P = gen_simple_matrix(N, L)\n",
    "  P[:, 0] = P[:, 0] + 100\n",
    "  print(P, P.dtype)\n",
    "  return P\n",
    "\n",
    "gen_well_conditioned(N, L)"
   ]
  },
  {
   "cell_type": "code",
   "execution_count": 420,
   "metadata": {},
   "outputs": [
    {
     "name": "stdout",
     "output_type": "stream",
     "text": [
      "[[-4.7026 -1.6787  0.9776  0.    ]\n",
      " [-4.178   5.1003  0.      0.    ]\n",
      " [-7.2626  0.      0.      0.    ]] float64\n",
      "[[-0.047  -1.6787  0.9776  0.    ]\n",
      " [-0.0418  5.1003  0.      0.    ]\n",
      " [-0.0726  0.      0.      0.    ]]\n"
     ]
    },
    {
     "data": {
      "text/plain": [
       "array([[-0.047 , -1.6787,  0.9776,  0.    ],\n",
       "       [-0.0418,  5.1003,  0.    ,  0.    ],\n",
       "       [-0.0726,  0.    ,  0.    ,  0.    ]])"
      ]
     },
     "execution_count": 420,
     "metadata": {},
     "output_type": "execute_result"
    }
   ],
   "source": [
    "# по две размерности на каждый k\n",
    "def gen_ill_conditioned(N: int, L: int, k: int) -> np.ndarray:\n",
    "    P = gen_simple_matrix(N, L)\n",
    "\n",
    "    P[:, 0] *= 10 ** (-k)\n",
    "\n",
    "    print(P)\n",
    "    return P\n",
    "\n",
    "gen_ill_conditioned(N, L, 2)"
   ]
  },
  {
   "cell_type": "code",
   "execution_count": 421,
   "metadata": {},
   "outputs": [
    {
     "data": {
      "text/plain": [
       "array([0.7207, 0.9242, 0.5911])"
      ]
     },
     "execution_count": 421,
     "metadata": {},
     "output_type": "execute_result"
    }
   ],
   "source": [
    "def gen_RHS(N: int) -> np.ndarray:\n",
    "  return rng.uniform(0, 1, size=(N,))\n",
    "\n",
    "gen_RHS(N)"
   ]
  },
  {
   "cell_type": "code",
   "execution_count": 422,
   "metadata": {},
   "outputs": [
    {
     "name": "stdout",
     "output_type": "stream",
     "text": [
      "[[-9.9877  5.6384  8.6289  0.    ]\n",
      " [ 8.2284 -1.5803  0.      0.    ]\n",
      " [-3.5297  0.      0.      0.    ]] float64\n",
      "B: \n",
      "[[-9.9877  0.      0.    ]\n",
      " [ 5.6384 11.4115  0.    ]\n",
      " [ 8.6289  3.291   2.9761]]\n",
      "C: \n",
      "[[ 1.     -0.5645 -0.8639]\n",
      " [ 0.      1.      0.2884]\n",
      " [ 0.      0.      1.    ]]\n",
      "[[-9.9877  0.      0.    ]\n",
      " [ 5.6384 11.4115  0.    ]\n",
      " [ 8.6289  3.291  -3.8255]]\n",
      "[-0.0815  0.0491 -0.3357]\n",
      "[0.814  0.1013 0.7427]\n",
      "[0.814  0.1013 0.7427]\n",
      "[-0.2891  0.146  -0.3357]\n"
     ]
    }
   ],
   "source": [
    "# i* = i\n",
    "# j* = j - i + L\n",
    "\n",
    "\n",
    "def K0(i: int, N: int, L: int) -> int:\n",
    "    return 0 if i + 1 <= L else i + 1 - L + 1\n",
    "\n",
    "\n",
    "def KN(i: int, N: int, L: int) -> int:\n",
    "    return i + 1 + L - 1 if i + 1 <= N - L else N\n",
    "\n",
    "\n",
    "def cholesky_LU(A: np.ndarray):\n",
    "    N = A.shape[0]\n",
    "    L = A.shape[1]\n",
    "\n",
    "    B = np.zeros(shape=(N, N), dtype=DTYPE)\n",
    "    C = np.eye(N, dtype=DTYPE)\n",
    "\n",
    "    # print(B)\n",
    "\n",
    "    for j in range(N):\n",
    "        for i in range(j, N):\n",
    "            # print(f\"i, j = ({i} {j})\")\n",
    "            if 0 <= np.abs(j - i) <= L - 1:\n",
    "                B[i, j] += A[i, j - i] if i <= j else A[j, i - j]\n",
    "\n",
    "            summation = 0\n",
    "            for k in range(j):\n",
    "              summation += B[i, k] * C[k, j]\n",
    "            \n",
    "            # summation = np.sum(B[i, 0 : j - 1] * C[0 : j - 1, j])\n",
    "\n",
    "            # print(summation)\n",
    "\n",
    "            B[i, j] -= summation\n",
    "        # print(B)\n",
    "\n",
    "\n",
    "        for jj in range(j + 1, N):\n",
    "            if 0 <= np.abs(jj - j) <= L - 1:\n",
    "                C[j, jj] += A[j, jj - j] if j <= jj else A[jj, j - jj]\n",
    "\n",
    "            summation = 0\n",
    "            for k in range(j):\n",
    "              summation += B[j, k] * C[k, jj]\n",
    "\n",
    "            # print(summation)\n",
    "            C[j, jj] -= summation\n",
    "\n",
    "            # summation = np.sum(B[j, 0 : j - 1] * C[0 : j - 1, jj])\n",
    "\n",
    "            C[j, jj] /= B[j, j]\n",
    "\n",
    "        # print(B)\n",
    "    # print(B)\n",
    "    return B, C\n",
    "\n",
    "def cholesky_LU_symm(A: np.ndarray):\n",
    "    N = A.shape[0]\n",
    "    L = A.shape[1]\n",
    "\n",
    "    B = np.zeros(shape=(N, N), dtype=DTYPE)\n",
    "\n",
    "    for j in range(N):\n",
    "        for i in range(j, N):\n",
    "            # print(f\"i, j = ({i} {j})\")\n",
    "            if 0 <= np.abs(j - i) <= L - 1:\n",
    "                B[i, j] += A[i, j - i] if i <= j else A[j, i - j]\n",
    "\n",
    "            summation = 0\n",
    "            for k in range(j):\n",
    "                # print(B[i, k], B[j, k])\n",
    "                # print(B[k, k])\n",
    "                summation += B[i, k] * B[j, k]\n",
    "                summation /= B[k, k]\n",
    "            \n",
    "            # print(summation)\n",
    "\n",
    "            B[i, j] -= summation\n",
    "\n",
    "    return B\n",
    "\n",
    "def cholesky_LU_symm_find_y(B: np.ndarray, f: np.ndarray):\n",
    "    N = B.shape[0]\n",
    "\n",
    "    y = np.zeros(N)\n",
    "\n",
    "    for i in range(N):\n",
    "      y[i] = f[i]\n",
    "      summation = 0\n",
    "      for k in range(i):\n",
    "        summation += B[i, k]*y[k]\n",
    "      y[i] -= summation\n",
    "      y[i] /= B[i, i]\n",
    "\n",
    "    return y\n",
    "\n",
    "def cholesky_LU_symm_find_x(B: np.ndarray, y: np.ndarray):\n",
    "    N = B.shape[0]\n",
    "\n",
    "    x = np.zeros(N)\n",
    "\n",
    "    for i in range(N - 1, -1, -1):\n",
    "        x[i] = y[i]\n",
    "        summation = 0\n",
    "        for k in range(i + 1, N):\n",
    "            summation += B[k, i] * x[k]\n",
    "        summation /= B[i, i]\n",
    "\n",
    "        x[i] -= summation\n",
    "    return x\n",
    "  \n",
    "\n",
    "def cholesky_LU_backward():\n",
    "  pass\n",
    "\n",
    "def cholesky_forward(A: np.ndarray, f: np.ndarray):\n",
    "    N = A.shape[0]\n",
    "    L = A.shape[1]\n",
    "\n",
    "    # By = f\n",
    "    B = np.zeros(shape=(N, N), dtype=DTYPE)\n",
    "    for i in range(0, N):\n",
    "        for j in range(i, N):\n",
    "            print(i, j)\n",
    "            if 0 <= np.abs(j - i) <= L - 1:\n",
    "                B[i, j] += A[i, j - i] if i <= j else A[j, i - j]\n",
    "                # print(B[i, j])\n",
    "\n",
    "            print(B)\n",
    "\n",
    "            sum = 0\n",
    "            for k in range(K0(i, N, L), j):\n",
    "                print(k)\n",
    "                part_sum = B[i, k] * B[j, k]\n",
    "                part_sum /= B[k, k]\n",
    "                print(f\"part_sum: {part_sum}\")\n",
    "                sum += part_sum\n",
    "            B[i, j] -= sum\n",
    "\n",
    "    print(B)\n",
    "    return B\n",
    "\n",
    "\n",
    "# cholesky_forward(gen_simple_matrix(N, L), gen_RHS(N))\n",
    "A = gen_simple_matrix(N, L)\n",
    "B, C = cholesky_LU(A)\n",
    "print(\"B: \")\n",
    "print(B)\n",
    "print(\"C: \")\n",
    "print(C)\n",
    "\n",
    "sym_f = gen_RHS(N)\n",
    "sym_B = cholesky_LU_symm(A)\n",
    "print(sym_B)\n",
    "sym_y  = cholesky_LU_symm_find_y(sym_B, sym_f)\n",
    "print(sym_y)\n",
    "print(np.matmul(sym_B, sym_y))\n",
    "print(sym_f)\n",
    "\n",
    "sym_x = cholesky_LU_symm_find_x(sym_B, sym_y)\n",
    "print(sym_x)\n"
   ]
  }
 ],
 "metadata": {
  "kernelspec": {
   "display_name": ".venv",
   "language": "python",
   "name": "python3"
  },
  "language_info": {
   "codemirror_mode": {
    "name": "ipython",
    "version": 3
   },
   "file_extension": ".py",
   "mimetype": "text/x-python",
   "name": "python",
   "nbconvert_exporter": "python",
   "pygments_lexer": "ipython3",
   "version": "3.12.5"
  }
 },
 "nbformat": 4,
 "nbformat_minor": 2
}
