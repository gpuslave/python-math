{
 "cells": [
  {
   "cell_type": "code",
   "execution_count": 2,
   "metadata": {},
   "outputs": [],
   "source": [
    "import numpy as np"
   ]
  },
  {
   "cell_type": "code",
   "execution_count": 12,
   "metadata": {},
   "outputs": [
    {
     "name": "stdout",
     "output_type": "stream",
     "text": [
      "6 4\n"
     ]
    }
   ],
   "source": [
    "# np.random.seed(52)\n",
    "\n",
    "rng = np.random.default_rng()\n",
    "\n",
    "N = np.random.randint(low=3, high=7)\n",
    "L = np.random.randint(low=2, high=5)\n",
    "\n",
    "print(N, L)"
   ]
  },
  {
   "cell_type": "code",
   "execution_count": 13,
   "metadata": {},
   "outputs": [
    {
     "name": "stdout",
     "output_type": "stream",
     "text": [
      "[[8. 4. 1. 5.]\n",
      " [1. 2. 7. 7.]\n",
      " [6. 6. 7. 8.]\n",
      " [4. 2. 8. 0.]\n",
      " [4. 1. 0. 0.]\n",
      " [2. 0. 0. 0.]]\n"
     ]
    }
   ],
   "source": [
    "\n",
    "P = np.zeros((N, L))\n",
    "for i in range(L):\n",
    "  # rows = np.arange(0, N-i) \n",
    "  random_values = np.random.randint(low=1, high=10, size=N-i)\n",
    "  P[0:N-i, i] = random_values\n",
    "\n",
    "print(P)"
   ]
  }
 ],
 "metadata": {
  "kernelspec": {
   "display_name": ".venv",
   "language": "python",
   "name": "python3"
  },
  "language_info": {
   "codemirror_mode": {
    "name": "ipython",
    "version": 3
   },
   "file_extension": ".py",
   "mimetype": "text/x-python",
   "name": "python",
   "nbconvert_exporter": "python",
   "pygments_lexer": "ipython3",
   "version": "3.12.5"
  }
 },
 "nbformat": 4,
 "nbformat_minor": 2
}
