{
 "cells": [
  {
   "cell_type": "code",
   "execution_count": 8,
   "metadata": {},
   "outputs": [],
   "source": [
    "import numpy as np\n",
    "\n",
    "np.set_printoptions(precision=3, suppress=True)"
   ]
  },
  {
   "cell_type": "code",
   "execution_count": 9,
   "metadata": {},
   "outputs": [],
   "source": [
    "class LowerMatrix:\n",
    "    def __init__(self, N: int, L: int, matrix=None):\n",
    "        self.N = N\n",
    "        self.L = L\n",
    "\n",
    "        if matrix is not None:\n",
    "            self.matrix = matrix\n",
    "        else:\n",
    "            self.matrix = np.zeros((N, L), dtype=np.float64)\n",
    "        # self.matrix = np.zeros((N, L), dtype=np.float64)\n",
    "\n",
    "    def __getitem__(self, indices):\n",
    "        i, j = indices\n",
    "        i1 = i\n",
    "        j1 = j - i + self.L\n",
    "        if i1 <= self.L:\n",
    "            j1 -= self.L - i1\n",
    "\n",
    "        # print(\"inside:\", i1 - 1, j1 - 1)\n",
    "        return self.matrix[i1 - 1][j1 - 1]\n",
    "\n",
    "    def __setitem__(self, indices, value):\n",
    "        i, j = indices\n",
    "        i1 = i\n",
    "        j1 = j - i + self.L\n",
    "\n",
    "        if i1 < self.L:\n",
    "            j1 -= self.L - i1\n",
    "\n",
    "        self.matrix[i1 - 1][j1 - 1] = value\n",
    "\n",
    "    def K0(self, i: int) -> int:\n",
    "        \"\"\"Get starting column index for row i\"\"\"\n",
    "        return max(1, i - self.L + 1)\n",
    "\n",
    "    def KN(self, i: int) -> int:\n",
    "        \"\"\"Get ending column index for row i\"\"\"\n",
    "        return min(self.N, i + self.L - 1)\n"
   ]
  },
  {
   "cell_type": "code",
   "execution_count": 11,
   "metadata": {},
   "outputs": [
    {
     "name": "stdout",
     "output_type": "stream",
     "text": [
      "gen_a: \n",
      " [[0.26  0.126 0.947 0.   ]\n",
      " [0.126 0.314 0.797 0.903]\n",
      " [0.947 0.797 0.754 0.1  ]\n",
      " [0.    0.903 0.1   0.322]]\n",
      "\n"
     ]
    }
   ],
   "source": [
    "size = 4\n",
    "rng = np.random.default_rng()\n",
    "gen_a = rng.random((size, size), dtype=np.float64)\n",
    "\n",
    "gen_a[0, size - 1] = 0\n",
    "\n",
    "for i in range(size):\n",
    "    for j in range(size):\n",
    "        if i < j:\n",
    "            gen_a[j, i] = gen_a[i, j]\n",
    "print(\"gen_a: \\n\", gen_a)\n",
    "print()\n",
    "\n",
    "a = LowerMatrix(size, size - 1, gen_a)\n",
    "# a = LowerMatrix(size, size - 1)\n",
    "\n",
    "\n",
    "def get_B(A):\n",
    "    b = LowerMatrix(size, size - 1)\n",
    "\n",
    "    for i in range(1, size + 1):\n",
    "        for j in range(a.K0(i), i + 1):\n",
    "            sum = 0\n",
    "\n",
    "            for k in range(a.K0(i), j):\n",
    "                sum += b[i, k] * b[j, k] / b[k, k]\n",
    "            b[i, j] = A[i, j] - sum\n",
    "    \n",
    "    return b \n",
    "    # print(f\"[{i},{j}]: {a[i,j]:0.3f}\")\n",
    "\n",
    "b = get_B(a)\n",
    "# for i in range(1, size+1):\n",
    "#     for j in range(1, size+1):\n",
    "#       print(b[i, j])"
   ]
  },
  {
   "cell_type": "code",
   "execution_count": 108,
   "metadata": {},
   "outputs": [
    {
     "name": "stdout",
     "output_type": "stream",
     "text": [
      "[[0.482 0.039 0.365 0.965 0.353]\n",
      " [0.26  0.792 0.211 0.686 0.724]\n",
      " [0.276 0.087 0.245 0.523 0.387]\n",
      " [0.647 0.583 0.293 0.418 0.735]\n",
      " [0.074 0.017 0.012 0.933 0.21 ]] 22.575299204789058\n"
     ]
    }
   ],
   "source": [
    "rng = np.random.default_rng()\n",
    "sizee= 5\n",
    "mm = rng.random((sizee,sizee), dtype=np.double)\n",
    "for i in range(sizee):\n",
    "  mm[i,i] *= 1**(-10)\n",
    "\n",
    "# for i in range(5):\n",
    "#   for j in range(5):\n",
    "#     if i!=j:\n",
    "#         mm[i,j] /= 10**(2)\n",
    "\n",
    "print(mm, np.linalg.cond(mm))"
   ]
  }
 ],
 "metadata": {
  "kernelspec": {
   "display_name": ".venv",
   "language": "python",
   "name": "python3"
  },
  "language_info": {
   "codemirror_mode": {
    "name": "ipython",
    "version": 3
   },
   "file_extension": ".py",
   "mimetype": "text/x-python",
   "name": "python",
   "nbconvert_exporter": "python",
   "pygments_lexer": "ipython3",
   "version": "3.12.5"
  }
 },
 "nbformat": 4,
 "nbformat_minor": 2
}
