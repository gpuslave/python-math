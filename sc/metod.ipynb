{
 "cells": [
  {
   "cell_type": "code",
   "execution_count": 49,
   "metadata": {},
   "outputs": [],
   "source": [
    "import numpy as np\n",
    "\n",
    "np.set_printoptions(precision=3, suppress=True)"
   ]
  },
  {
   "cell_type": "code",
   "execution_count": 50,
   "metadata": {},
   "outputs": [],
   "source": [
    "class LowerMatrix:\n",
    "    def __init__(self, N: int, L: int, matrix=None):\n",
    "        self.N = N\n",
    "        self.L = L\n",
    "\n",
    "        if matrix is not None:\n",
    "            self.matrix = matrix\n",
    "        else:\n",
    "            self.matrix = np.zeros((N, L), dtype=np.float64)\n",
    "        # self.matrix = np.zeros((N, L), dtype=np.float64)\n",
    "\n",
    "    def __getitem__(self, indices):\n",
    "        i, j = indices\n",
    "        i1 = i\n",
    "        j1 = j - i + self.L\n",
    "        if i1 <= self.L:\n",
    "            j1 -= self.L - i1\n",
    "\n",
    "        # print(\"inside:\", i1 - 1, j1 - 1)\n",
    "        return self.matrix[i1 - 1][j1 - 1]\n",
    "\n",
    "    def __setitem__(self, indices, value):\n",
    "        i, j = indices\n",
    "        i1 = i\n",
    "        j1 = j - i + self.L\n",
    "\n",
    "        if i1 < self.L:\n",
    "            j1 -= self.L - i1\n",
    "\n",
    "        self.matrix[i1 - 1][j1 - 1] = value\n",
    "\n",
    "    def K0(self, i: int) -> int:\n",
    "        \"\"\"Get starting column index for row i\"\"\"\n",
    "        return max(1, i - self.L + 1)\n",
    "\n",
    "    def KN(self, i: int) -> int:\n",
    "        \"\"\"Get ending column index for row i\"\"\"\n",
    "        return min(self.N, i + self.L - 1)\n"
   ]
  },
  {
   "cell_type": "code",
   "execution_count": 51,
   "metadata": {},
   "outputs": [
    {
     "name": "stdout",
     "output_type": "stream",
     "text": [
      "gen_a: \n",
      " [[0.603 0.942 0.26  0.   ]\n",
      " [0.942 0.874 0.786 0.499]\n",
      " [0.26  0.786 0.987 0.806]\n",
      " [0.    0.499 0.806 0.385]]\n",
      "\n",
      "0.6025852981563832\n",
      "0.0\n",
      "0.0\n"
     ]
    },
    {
     "ename": "IndexError",
     "evalue": "index 3 is out of bounds for axis 0 with size 3",
     "output_type": "error",
     "traceback": [
      "\u001b[1;31m---------------------------------------------------------------------------\u001b[0m",
      "\u001b[1;31mIndexError\u001b[0m                                Traceback (most recent call last)",
      "Cell \u001b[1;32mIn[51], line 35\u001b[0m\n\u001b[0;32m     33\u001b[0m \u001b[38;5;28;01mfor\u001b[39;00m i \u001b[38;5;129;01min\u001b[39;00m \u001b[38;5;28mrange\u001b[39m(\u001b[38;5;241m1\u001b[39m, size\u001b[38;5;241m+\u001b[39m\u001b[38;5;241m1\u001b[39m):\n\u001b[0;32m     34\u001b[0m     \u001b[38;5;28;01mfor\u001b[39;00m j \u001b[38;5;129;01min\u001b[39;00m \u001b[38;5;28mrange\u001b[39m(\u001b[38;5;241m1\u001b[39m, size\u001b[38;5;241m+\u001b[39m\u001b[38;5;241m1\u001b[39m):\n\u001b[1;32m---> 35\u001b[0m       \u001b[38;5;28mprint\u001b[39m(\u001b[43mb\u001b[49m\u001b[43m[\u001b[49m\u001b[43mi\u001b[49m\u001b[43m,\u001b[49m\u001b[43m \u001b[49m\u001b[43mj\u001b[49m\u001b[43m]\u001b[49m)\n",
      "Cell \u001b[1;32mIn[50], line 20\u001b[0m, in \u001b[0;36mLowerMatrix.__getitem__\u001b[1;34m(self, indices)\u001b[0m\n\u001b[0;32m     17\u001b[0m     j1 \u001b[38;5;241m-\u001b[39m\u001b[38;5;241m=\u001b[39m \u001b[38;5;28mself\u001b[39m\u001b[38;5;241m.\u001b[39mL \u001b[38;5;241m-\u001b[39m i1\n\u001b[0;32m     19\u001b[0m \u001b[38;5;66;03m# print(\"inside:\", i1 - 1, j1 - 1)\u001b[39;00m\n\u001b[1;32m---> 20\u001b[0m \u001b[38;5;28;01mreturn\u001b[39;00m \u001b[38;5;28;43mself\u001b[39;49m\u001b[38;5;241;43m.\u001b[39;49m\u001b[43mmatrix\u001b[49m\u001b[43m[\u001b[49m\u001b[43mi1\u001b[49m\u001b[43m \u001b[49m\u001b[38;5;241;43m-\u001b[39;49m\u001b[43m \u001b[49m\u001b[38;5;241;43m1\u001b[39;49m\u001b[43m]\u001b[49m\u001b[43m[\u001b[49m\u001b[43mj1\u001b[49m\u001b[43m \u001b[49m\u001b[38;5;241;43m-\u001b[39;49m\u001b[43m \u001b[49m\u001b[38;5;241;43m1\u001b[39;49m\u001b[43m]\u001b[49m\n",
      "\u001b[1;31mIndexError\u001b[0m: index 3 is out of bounds for axis 0 with size 3"
     ]
    }
   ],
   "source": [
    "size = 4\n",
    "rng = np.random.default_rng()\n",
    "gen_a = rng.random((size, size), dtype=np.float64)\n",
    "\n",
    "gen_a[0, size - 1] = 0\n",
    "\n",
    "for i in range(size):\n",
    "    for j in range(size):\n",
    "        if i < j:\n",
    "            gen_a[j, i] = gen_a[i, j]\n",
    "print(\"gen_a: \\n\", gen_a)\n",
    "print()\n",
    "\n",
    "a = LowerMatrix(size, size - 1, gen_a)\n",
    "# a = LowerMatrix(size, size - 1)\n",
    "\n",
    "\n",
    "def get_B(A):\n",
    "    b = LowerMatrix(size, size - 1)\n",
    "\n",
    "    for i in range(1, size + 1):\n",
    "        for j in range(a.K0(i), i + 1):\n",
    "            sum = 0\n",
    "\n",
    "            for k in range(a.K0(i), j):\n",
    "                sum += b[i, k] * b[j, k] / b[k, k]\n",
    "            b[i, j] = A[i, j] - sum\n",
    "    \n",
    "    return b \n",
    "    # print(f\"[{i},{j}]: {a[i,j]:0.3f}\")\n",
    "\n",
    "b = get_B(a)\n",
    "for i in range(1, size+1):\n",
    "    for j in range(1, size+1):\n",
    "      print(b[i, j])"
   ]
  }
 ],
 "metadata": {
  "kernelspec": {
   "display_name": ".venv",
   "language": "python",
   "name": "python3"
  },
  "language_info": {
   "codemirror_mode": {
    "name": "ipython",
    "version": 3
   },
   "file_extension": ".py",
   "mimetype": "text/x-python",
   "name": "python",
   "nbconvert_exporter": "python",
   "pygments_lexer": "ipython3",
   "version": "3.12.5"
  }
 },
 "nbformat": 4,
 "nbformat_minor": 2
}
