{
 "cells": [
  {
   "cell_type": "code",
   "execution_count": 1,
   "metadata": {},
   "outputs": [],
   "source": [
    "import numpy as np"
   ]
  },
  {
   "cell_type": "code",
   "execution_count": 101,
   "metadata": {},
   "outputs": [],
   "source": [
    "def generate_positive_definite_matrix(size: int) -> np.ndarray:\n",
    "    \"\"\"\n",
    "    Generate random symmetric positive definite matrix:\n",
    "    1. Create random matrix A\n",
    "    2. Compute A^T * A (always positive semi-definite)\n",
    "    3. Add diagonal dominance to ensure positive definite\n",
    "    \"\"\"\n",
    "    rng = np.random.default_rng(52)\n",
    "    \n",
    "    # Create random matrix\n",
    "    A = rng.random((size, size))\n",
    "    \n",
    "    # Make symmetric positive definite\n",
    "    matrix = A @ A.T  # Ensures positive semi-definite\n",
    "    \n",
    "    # Add to diagonal to ensure positive definite\n",
    "    matrix += size * np.eye(size)\n",
    "    \n",
    "    return matrix"
   ]
  },
  {
   "cell_type": "code",
   "execution_count": 102,
   "metadata": {},
   "outputs": [
    {
     "name": "stdout",
     "output_type": "stream",
     "text": [
      "[[3.97882539 0.82302082 0.38084467]\n",
      " [0.82302082 4.24054186 0.24729345]\n",
      " [0.38084467 0.24729345 3.21811758]]\n",
      "4.119261028215597\n",
      "[[1.99469932 0.         0.        ]\n",
      " [0.41260395 2.01749841 0.        ]\n",
      " [0.19092836 0.08352703 1.78176519]]\n",
      "[[1.99469932 0.41260395 0.19092836]\n",
      " [0.         2.01749841 0.08352703]\n",
      " [0.         0.         1.78176519]]\n"
     ]
    }
   ],
   "source": [
    "mat_size = 3\n",
    "mat = generate_positive_definite_matrix(3)\n",
    "# for i in range(mat_size):\n",
    "#   for j in range(i, mat_size):\n",
    "#     mat[i, j] = mat[j, i]\n",
    "\n",
    "print(mat) \n",
    "# mat = np.ndarray((2, 2), dtype=np.int64)\n",
    "\n",
    "def inverse_iteration(A: np.ndarray, tolerance: np.float64 = 1e-8, max_iter: int = 100):\n",
    "  dim = A.shape[0]\n",
    "\n",
    "  # initial guess\n",
    "  x_prev = np.random.rand(dim)\n",
    "\n",
    "  res = np.matmul(np.matmul(x_prev.T, A), x_prev)\n",
    "  print(res)\n",
    "  \n",
    "  L = np.linalg.cholesky(A, upper=False)\n",
    "  U = np.linalg.cholesky(A, upper=True)\n",
    "\n",
    "  print(L)\n",
    "  print(U)\n",
    "\n",
    "  for _ in range(1, max_iter):\n",
    "    nu = x_prev / np.linalg.norm(x_prev, ord=None)\n",
    "\n",
    "    # x_next = np.linalg.\n",
    "\n",
    "inverse_iteration(mat)"
   ]
  }
 ],
 "metadata": {
  "kernelspec": {
   "display_name": ".venv",
   "language": "python",
   "name": "python3"
  },
  "language_info": {
   "codemirror_mode": {
    "name": "ipython",
    "version": 3
   },
   "file_extension": ".py",
   "mimetype": "text/x-python",
   "name": "python",
   "nbconvert_exporter": "python",
   "pygments_lexer": "ipython3",
   "version": "3.12.5"
  }
 },
 "nbformat": 4,
 "nbformat_minor": 2
}
