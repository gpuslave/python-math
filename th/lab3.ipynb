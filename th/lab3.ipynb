{
 "cells": [
  {
   "cell_type": "code",
   "execution_count": 27,
   "metadata": {},
   "outputs": [],
   "source": [
    "import numpy as np"
   ]
  },
  {
   "cell_type": "code",
   "execution_count": 32,
   "metadata": {},
   "outputs": [],
   "source": [
    "def generate_positive_definite_matrix(size: int) -> np.ndarray:\n",
    "    \"\"\"\n",
    "    Generate random symmetric positive definite matrix:\n",
    "    1. Create random matrix A\n",
    "    2. Compute A^T * A (always positive semi-definite)\n",
    "    3. Add diagonal dominance to ensure positive definite\n",
    "    \"\"\"\n",
    "    rng = np.random.default_rng(52)\n",
    "    \n",
    "    # Create random matrix\n",
    "    A = rng.random((size, size))\n",
    "    \n",
    "    # Make symmetric positive definite\n",
    "    matrix = A @ A.T  # Ensures positive semi-definite\n",
    "    \n",
    "    # Add to diagonal to ensure positive definite\n",
    "    matrix += size//2 * np.eye(size)\n",
    "    \n",
    "    return matrix"
   ]
  },
  {
   "cell_type": "code",
   "execution_count": 35,
   "metadata": {},
   "outputs": [
    {
     "name": "stdout",
     "output_type": "stream",
     "text": [
      "[[1.97882539 0.82302082 0.38084467]\n",
      " [0.82302082 2.24054186 0.24729345]\n",
      " [0.38084467 0.24729345 1.21811758]]\n",
      "59\n",
      "1.086770456781609 [-0.49198718  0.16186474  0.85542295]\n"
     ]
    }
   ],
   "source": [
    "mat_size = 3\n",
    "mat = generate_positive_definite_matrix(3)\n",
    "# for i in range(mat_size):\n",
    "#   for j in range(i, mat_size):\n",
    "#     mat[i, j] = mat[j, i]\n",
    "\n",
    "print(mat)\n",
    "# mat = np.ndarray((2, 2), dtype=np.int64)\n",
    "\n",
    "\n",
    "def inverse_iteration(A: np.ndarray, tolerance: np.float64 = 1e-8, max_iter: int = 500):\n",
    "    dim = A.shape[0]\n",
    "\n",
    "    # initial guess\n",
    "    x_prev = np.random.rand(dim)\n",
    "    # print(x_prev)\n",
    "\n",
    "    sigma = 0\n",
    "    sigma_prev = 0\n",
    "\n",
    "    # decompose A into L*U using cholesky\n",
    "    L = np.linalg.cholesky(A, upper=False)\n",
    "    U = L.T\n",
    "\n",
    "    # U = np.linalg.cholesky(A, upper=True)\n",
    "\n",
    "    # print(L @ L.T) # A matr\n",
    "\n",
    "    for _ in range(max_iter):\n",
    "        norm = np.linalg.norm(x_prev, ord=None)\n",
    "        # print(norm)\n",
    "        nu = x_prev / norm # +- eigenvec\n",
    "\n",
    "        # L*y = nu\n",
    "        # U*x = y\n",
    "        y = np.linalg.solve(L, nu)\n",
    "        x_next = np.linalg.solve(U, y)\n",
    "\n",
    "        sigma_prev = sigma\n",
    "        sigma = 1 / np.matmul(y, x_next)  # eigenvalue\n",
    "\n",
    "        if abs(sigma - sigma_prev) < tolerance and abs(sigma - sigma_prev) != 0:\n",
    "          print(_)\n",
    "          return nu, sigma\n",
    "\n",
    "        sigma_prev = sigma\n",
    "        x_prev = x_next\n",
    "\n",
    "    return nu, sigma\n",
    "\n",
    "eigvec_1, eigval_1 = inverse_iteration(mat)\n",
    "\n",
    "print(eigval_1, eigvec_1)"
   ]
  },
  {
   "cell_type": "code",
   "execution_count": 40,
   "metadata": {},
   "outputs": [],
   "source": [
    "def inverse_iteration_with_shift_one(A: np.ndarray, tolerance: np.float64 = 1e-8, max_iter: int = 500):\n",
    "    dim = A.shape[0]\n",
    "\n",
    "    # initial guess\n",
    "    x_prev = np.random.rand(dim)\n",
    "    # print(x_prev)\n",
    "\n",
    "    sigma = 0\n",
    "    sigma_prev = 0\n",
    "\n",
    "    # decompose A into L*U using cholesky\n",
    "    L = np.linalg.cholesky(A, upper=False)\n",
    "    U = L.T\n",
    "\n",
    "    g_1, _ = inverse_iteration(A)\n",
    "    print(g_1, _)\n",
    "    \n",
    "    # U = np.linalg.cholesky(A, upper=True)\n",
    "\n",
    "    # print(L @ L.T) # A matr\n",
    "\n",
    "    for _ in range(max_iter):\n",
    "        norm = np.linalg.norm(x_prev, ord=None)\n",
    "        # print(norm)\n",
    "        nu = x_prev / norm # +- eigenvec\n",
    "\n",
    "        # f = E - g_1*g_1^T\n",
    "        # L*y = f * nu\n",
    "        # U*x = y\n",
    "        y = np.linalg.solve(L, np.matmul(np.eye(dim) - np.matmul(g_1, g_1.T), nu))\n",
    "        x_next = np.linalg.solve(U, y)\n",
    "\n",
    "        sigma_prev = sigma\n",
    "        sigma = 1 / np.matmul(y, x_next)  # eigenvalue\n",
    "\n",
    "        if abs(sigma - sigma_prev) < tolerance and abs(sigma - sigma_prev) != 0:\n",
    "          print(_)\n",
    "          return nu, sigma\n",
    "\n",
    "        sigma_prev = sigma\n",
    "        x_prev = x_next\n",
    "\n",
    "    return nu, sigma"
   ]
  },
  {
   "cell_type": "code",
   "execution_count": 50,
   "metadata": {},
   "outputs": [
    {
     "name": "stdout",
     "output_type": "stream",
     "text": [
      "66\n",
      "[-0.49198723  0.16186481  0.8554229 ] 1.0867704589974014\n",
      "152\n",
      "(array([ 0.7363108 , -0.25770109, -0.62564891]), np.float64(1.2405279824854132))\n"
     ]
    }
   ],
   "source": [
    "print(inverse_iteration_with_shift_one(mat))"
   ]
  }
 ],
 "metadata": {
  "kernelspec": {
   "display_name": ".venv",
   "language": "python",
   "name": "python3"
  },
  "language_info": {
   "codemirror_mode": {
    "name": "ipython",
    "version": 3
   },
   "file_extension": ".py",
   "mimetype": "text/x-python",
   "name": "python",
   "nbconvert_exporter": "python",
   "pygments_lexer": "ipython3",
   "version": "3.11.5"
  }
 },
 "nbformat": 4,
 "nbformat_minor": 2
}
